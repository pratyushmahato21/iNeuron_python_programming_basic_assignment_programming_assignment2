{
 "cells": [
  {
   "cell_type": "markdown",
   "id": "0a3c26d8",
   "metadata": {},
   "source": [
    "1. Write a Python program to convert kilometers to miles?"
   ]
  },
  {
   "cell_type": "code",
   "execution_count": 3,
   "id": "706101dc",
   "metadata": {},
   "outputs": [
    {
     "name": "stdout",
     "output_type": "stream",
     "text": [
      "Enter the distance in kilometers : 5\n",
      "The distance in miles is 3.106863683249034\n"
     ]
    }
   ],
   "source": [
    "km = float(input(\"Enter the distance in kilometers : \"))\n",
    "m = km / 1.60934\n",
    "print(f\"The distance in miles is {m}\")"
   ]
  },
  {
   "cell_type": "markdown",
   "id": "89dc6a22",
   "metadata": {},
   "source": [
    "2. Write a Python program to convert Celsius to Fahrenheit?"
   ]
  },
  {
   "cell_type": "code",
   "execution_count": 4,
   "id": "431c8350",
   "metadata": {},
   "outputs": [
    {
     "name": "stdout",
     "output_type": "stream",
     "text": [
      "Enter the temperature in Celsius: 37\n",
      "The temperatue in farenheit is 98.6\n"
     ]
    }
   ],
   "source": [
    "c = float(input(\"Enter the temperature in Celsius: \"))\n",
    "f = (c * 9/5) + 32\n",
    "print(f\"The temperatue in farenheit is {f}\")"
   ]
  },
  {
   "cell_type": "markdown",
   "id": "c278ca45",
   "metadata": {},
   "source": [
    "3. Write a Python program to display calendar?"
   ]
  },
  {
   "cell_type": "code",
   "execution_count": 5,
   "id": "4e4fd812",
   "metadata": {},
   "outputs": [
    {
     "name": "stdout",
     "output_type": "stream",
     "text": [
      "Enter the year as yyyy: 2021\n",
      "Enter the month as mm: 06\n",
      "     June 2021\n",
      "Mo Tu We Th Fr Sa Su\n",
      "    1  2  3  4  5  6\n",
      " 7  8  9 10 11 12 13\n",
      "14 15 16 17 18 19 20\n",
      "21 22 23 24 25 26 27\n",
      "28 29 30\n",
      "\n"
     ]
    }
   ],
   "source": [
    "import calendar\n",
    "\n",
    "y = int(input(\"Enter the year as yyyy: \"))\n",
    "m = int(input(\"Enter the month as mm: \"))\n",
    "print(calendar.month(y,m))"
   ]
  },
  {
   "cell_type": "markdown",
   "id": "314545f1",
   "metadata": {},
   "source": [
    "4. Write a Python program to solve quadratic equation?"
   ]
  },
  {
   "cell_type": "code",
   "execution_count": 2,
   "id": "8db368c5",
   "metadata": {},
   "outputs": [
    {
     "name": "stdout",
     "output_type": "stream",
     "text": [
      "Here we will solve quadratic equation in the form a(x^2+bx+c=0, where a,b,c are 3 constants & x is a variable\n",
      "Enter the value of a: 1\n",
      "Enter the value of b: 2\n",
      "Enter the value of c: -2\n",
      "The two roots of the equation are 0.7320508075688772 & -2.732050807568877\n"
     ]
    }
   ],
   "source": [
    "import math\n",
    "print(\"Here we will solve quadratic equation in the form a(x^2+bx+c=0, where a,b,c are 3 constants & x is a variable\")\n",
    "a = int(input(\"Enter the value of a: \"))\n",
    "b = int(input(\"Enter the value of b: \"))\n",
    "c = int(input(\"Enter the value of c: \"))\n",
    "x1 = (-b + math.sqrt(b**2 - 4*a*c))/ 2*a\n",
    "x2 = (-b - math.sqrt(b**2 - 4*a*c))/ 2*a\n",
    "\n",
    "print(f\"The two roots of the equation are {x1} & {x2}\")\n"
   ]
  },
  {
   "cell_type": "markdown",
   "id": "c73c2484",
   "metadata": {},
   "source": [
    "5. Write a Python program to swap two variables without temp variable?"
   ]
  },
  {
   "cell_type": "code",
   "execution_count": 4,
   "id": "67be44e2",
   "metadata": {},
   "outputs": [
    {
     "name": "stdout",
     "output_type": "stream",
     "text": [
      "Enter a number, a: 2\n",
      "Enter a number, b: 3\n",
      "the swap value of a is 3\n",
      "the swap value of b is 2\n"
     ]
    }
   ],
   "source": [
    "a = input(\"Enter a number, a: \")\n",
    "b = input(\"Enter a number, b: \")\n",
    "a,b = b,a\n",
    "print(f\"the swap value of a is {a}\")\n",
    "print(f\"the swap value of b is {b}\")"
   ]
  },
  {
   "cell_type": "code",
   "execution_count": null,
   "id": "5dd981e7",
   "metadata": {},
   "outputs": [],
   "source": []
  }
 ],
 "metadata": {
  "kernelspec": {
   "display_name": "Python 3",
   "language": "python",
   "name": "python3"
  },
  "language_info": {
   "codemirror_mode": {
    "name": "ipython",
    "version": 3
   },
   "file_extension": ".py",
   "mimetype": "text/x-python",
   "name": "python",
   "nbconvert_exporter": "python",
   "pygments_lexer": "ipython3",
   "version": "3.8.10"
  }
 },
 "nbformat": 4,
 "nbformat_minor": 5
}
